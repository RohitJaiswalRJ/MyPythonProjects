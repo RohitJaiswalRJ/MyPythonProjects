{
 "cells": [
  {
   "cell_type": "code",
   "execution_count": 1,
   "metadata": {},
   "outputs": [
    {
     "name": "stdout",
     "output_type": "stream",
     "text": [
      "Overwriting functions.py\n"
     ]
    }
   ],
   "source": [
    "%%writefile functions.py\n",
    "\"\"\"\n",
    "File for different functions\n",
    "\"\"\"\n",
    "def check(inp):\n",
    "    \"\"\"\n",
    "    function to check if the seat number is valid or not\n",
    "    \"\"\"\n",
    "    try:\n",
    "        if not inp.isnumeric():\n",
    "            return False\n",
    "    except AttributeError:\n",
    "        pass\n",
    "    if inp <= 0:\n",
    "        return False\n",
    "    if inp > 108:\n",
    "        return False\n",
    "    return True\n",
    "\n",
    "def seatfacingnumandtype(seatnum):\n",
    "    \"\"\"\n",
    "    function to find the seat number and type of the facing seat\n",
    "    \"\"\"\n",
    "    if seatnum % 6 == 0 or seatnum % 6 == 1:\n",
    "        seattype = \"WS\"\n",
    "    elif seatnum % 6 == 5 or seatnum % 6 == 2:\n",
    "        seattype = \"MS\"\n",
    "    else:\n",
    "        seattype = \"AS\"\n",
    "    if ((seatnum-1) // 6) % 2 == 0:\n",
    "        val = ((((seatnum-1) // 6) + 1) * 6)\n",
    "        seatno = (val + (val - seatnum) + 1)\n",
    "    else:\n",
    "        seatno = ((((seatnum-1) // 6) * 6) - (seatnum % 6) + 1)\n",
    "    print(str(seatno)+\" \"+seattype)"
   ]
  },
  {
   "cell_type": "code",
   "execution_count": 2,
   "metadata": {},
   "outputs": [
    {
     "name": "stdout",
     "output_type": "stream",
     "text": [
      "\n",
      "-------------------------------------------------------------------\n",
      "\n",
      "Your code has been rated at 10.00/10 (previous run: 9.55/10, +0.45)\n",
      "\n",
      "\n",
      "\n"
     ]
    }
   ],
   "source": [
    "! PyLint functions.py"
   ]
  },
  {
   "cell_type": "code",
   "execution_count": 3,
   "metadata": {},
   "outputs": [
    {
     "name": "stdout",
     "output_type": "stream",
     "text": [
      "2\n",
      "18\n",
      "40\n",
      "19 WS\n",
      "45 AS\n"
     ]
    }
   ],
   "source": [
    "from functions import check, seatfacingnumandtype\n",
    "\n",
    "Testcases = int(input())\n",
    "SeatList = list()\n",
    "for i in range(0,Testcases):\n",
    "    while True:\n",
    "        a = int(input())\n",
    "        if check(a) == True:\n",
    "            break\n",
    "    SeatList.append(a)\n",
    "\n",
    "for i in range(0,Testcases):\n",
    "    seatfacingnumandtype(SeatList[i])"
   ]
  }
 ],
 "metadata": {
  "kernelspec": {
   "display_name": "Python 3",
   "language": "python",
   "name": "python3"
  },
  "language_info": {
   "codemirror_mode": {
    "name": "ipython",
    "version": 3
   },
   "file_extension": ".py",
   "mimetype": "text/x-python",
   "name": "python",
   "nbconvert_exporter": "python",
   "pygments_lexer": "ipython3",
   "version": "3.7.6"
  }
 },
 "nbformat": 4,
 "nbformat_minor": 4
}
